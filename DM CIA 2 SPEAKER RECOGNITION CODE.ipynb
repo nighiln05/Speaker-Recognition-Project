{
 "cells": [
  {
   "cell_type": "code",
   "execution_count": 1,
   "id": "8562daa7-0d3e-4086-9f61-c338f249c747",
   "metadata": {
    "tags": []
   },
   "outputs": [],
   "source": [
    "import numpy\n",
    "import librosa\n",
    "import librosa.display\n",
    "import matplotlib.pyplot as plt"
   ]
  },
  {
   "cell_type": "code",
   "execution_count": 2,
   "id": "a77463e5-8206-4466-af57-29196068acc3",
   "metadata": {
    "tags": []
   },
   "outputs": [],
   "source": [
    "from scipy.spatial.distance import euclidean\n",
    "import os\n",
    "import numpy as np\n",
    "def load_speaker_mfccs(data_dir):\n",
    "    speakers = [d for d in os.listdir(data_dir) if os.path.isdir(os.path.join(data_dir, d))]\n",
    "    speaker_model = {}\n",
    "\n",
    "    for speaker in speakers:\n",
    "        speaker_dir = os.path.join(data_dir, speaker)\n",
    "        mfcc_features = []\n",
    "\n",
    "        for root, _, files in os.walk(speaker_dir):\n",
    "            for file_name in files:\n",
    "                if file_name.endswith('.flac'):\n",
    "                    file_path = os.path.join(root, file_name)\n",
    "                    if os.path.exists(file_path):\n",
    "                        try:\n",
    "                            y, sr = librosa.load(file_path, sr=None)\n",
    "                            mfccs = librosa.feature.mfcc(y=y, sr=sr, n_mfcc=13)\n",
    "                            mfcc_features.append(mfccs.T)\n",
    "                        except Exception as e:\n",
    "                            print(f\"Error processing file {file_path}: {e}\")\n",
    "\n",
    "        if mfcc_features:\n",
    "            speaker_model[speaker] = np.vstack(mfcc_features)\n",
    "\n",
    "    return speaker_model"
   ]
  },
  {
   "cell_type": "code",
   "execution_count": 3,
   "id": "d2509897-8e7d-4c59-8ad4-bfee92497768",
   "metadata": {
    "tags": []
   },
   "outputs": [],
   "source": [
    "def prediction(test_files, speaker_model, true_speaker):\n",
    "    correct_predictions = 0\n",
    "    for file_path in test_files:\n",
    "        predicted_speaker = identify_speaker(file_path, speaker_model)\n",
    "        print(f\"Predicted: {predicted_speaker}, True: {true_speaker}\")\n",
    "        if predicted_speaker == true_speaker:\n",
    "            correct_predictions += 1\n",
    "\n",
    "    accuracy = correct_predictions / len(test_files)\n",
    "    return accuracy"
   ]
  },
  {
   "cell_type": "code",
   "execution_count": null,
   "id": "30598044-795b-460b-a048-6897d689a500",
   "metadata": {
    "tags": []
   },
   "outputs": [
    {
     "name": "stderr",
     "output_type": "stream",
     "text": [
      "C:\\Users\\NIGHIL NATARAJAN\\anaconda3\\Lib\\site-packages\\paramiko\\transport.py:219: CryptographyDeprecationWarning: Blowfish has been deprecated\n",
      "  \"class\": algorithms.Blowfish,\n"
     ]
    }
   ],
   "source": [
    "data_dir = \"C:\\\\Users\\\\NIGHIL NATARAJAN\\\\Downloads\\\\DM-audio-files\\\\DM-audio-files\"\n",
    "speaker_model = load_speaker_mfccs(data_dir)\n",
    "\n",
    "test1 = {\n",
    "    'Raghav': [\"C:\\\\Users\\\\NIGHIL NATARAJAN\\\\Downloads\\\\DM-audio-files\\\\DM-audio-files\\\\Raghav\\\\Raghav15.flac\",\n",
    "               \"C:\\\\Users\\\\NIGHIL NATARAJAN\\\\Downloads\\\\DM-audio-files\\\\DM-audio-files\\\\Raghav\\\\Raghav24.flac\"],\n",
    "    'Nighil': [\"C:\\\\Users\\\\NIGHIL NATARAJAN\\\\Downloads\\\\DM-audio-files\\\\DM-audio-files\\\\Nighil\\\\Nighil9.flac\",\n",
    "               \"C:\\\\Users\\\\NIGHIL NATARAJAN\\\\Downloads\\\\DM-audio-files\\\\DM-audio-files\\\\Nighil\\\\Nighil8.flac\"],\n",
    "    'Sathya': [\"C:\\\\Users\\\\NIGHIL NATARAJAN\\\\Downloads\\\\DM-audio-files\\\\DM-audio-files\\\\Sathya\\\\Sathya55.flac\",\n",
    "               \"C:\\\\Users\\\\NIGHIL NATARAJAN\\\\Downloads\\\\DM-audio-files\\\\DM-audio-files\\\\Sathya\\\\Sathya71.flac\"],\n",
    "    'Sandeep': [\"C:\\\\Users\\\\NIGHIL NATARAJAN\\\\Downloads\\\\DM-audio-files\\\\DM-audio-files\\\\Sandeep\\\\Sandeep33.flac\",\n",
    "                \"C:\\\\Users\\\\NIGHIL NATARAJAN\\\\Downloads\\\\DM-audio-files\\\\DM-audio-files\\\\Sandeep\\\\Sandeep43.flac\"],\n",
    "    'Subrajith': [\"C:\\\\Users\\\\NIGHIL NATARAJAN\\\\Downloads\\\\DM-audio-files\\\\DM-audio-files\\\\Subrajith\\\\Subrajith33.flac\",\n",
    "                  \"C:\\\\Users\\\\NIGHIL NATARAJAN\\\\Downloads\\\\DM-audio-files\\\\DM-audio-files\\\\Subrajith\\\\Subrajith43.flac\"]\n",
    "}"
   ]
  },
  {
   "cell_type": "code",
   "execution_count": 5,
   "id": "426b283b-3242-49d5-8124-a796205cb1c1",
   "metadata": {
    "tags": []
   },
   "outputs": [
    {
     "name": "stdout",
     "output_type": "stream",
     "text": [
      "Predicted: Raghav, True: Raghav\n",
      "Predicted: Raghav, True: Raghav\n",
      "Accuracy for Raghav: 1.00\n",
      "\n",
      "Predicted: Nighil, True: Nighil\n",
      "Predicted: Nighil, True: Nighil\n",
      "Accuracy for Nighil: 1.00\n",
      "\n",
      "Predicted: Sathya, True: Sathya\n",
      "Predicted: Sathya, True: Sathya\n",
      "Accuracy for Sathya: 1.00\n",
      "\n",
      "Predicted: Sathya, True: Sandeep\n",
      "Predicted: Sathya, True: Sandeep\n",
      "Accuracy for Sandeep: 0.00\n",
      "\n",
      "Predicted: Sathya, True: Subrajith\n",
      "Predicted: Subrajith, True: Subrajith\n",
      "Accuracy for Subrajith: 0.50\n",
      "\n"
     ]
    }
   ],
   "source": [
    "def identify_speaker(test_file_path, speaker_model):\n",
    "    try:\n",
    "        y, sr = librosa.load(test_file_path, sr=None)\n",
    "        test_mfcc = librosa.feature.mfcc(y=y, sr=sr, n_mfcc=13).T\n",
    "        test_mean = np.mean(test_mfcc, axis=0)\n",
    "\n",
    "        min_dist = float('inf')\n",
    "        predicted_speaker = None\n",
    "\n",
    "        for speaker, mfccs in speaker_model.items():\n",
    "            speaker_mean = np.mean(mfccs, axis=0)\n",
    "            dist = euclidean(test_mean, speaker_mean)\n",
    "\n",
    "            if dist < min_dist:\n",
    "                min_dist = dist\n",
    "                predicted_speaker = speaker\n",
    "\n",
    "        return predicted_speaker\n",
    "\n",
    "    except Exception as e:\n",
    "        print(f\"Error identifying speaker: {e}\")\n",
    "        return None\n",
    "\n",
    "# STEP 5: Evaluate accuracy per speaker\n",
    "for speaker, files in test1.items():\n",
    "    accuracy = prediction(files, speaker_model, speaker)\n",
    "    print(f'Accuracy for {speaker}: {accuracy:.2f}\\n')"
   ]
  }
 ],
 "metadata": {
  "kernelspec": {
   "display_name": "Python 3 (ipykernel)",
   "language": "python",
   "name": "python3"
  },
  "language_info": {
   "codemirror_mode": {
    "name": "ipython",
    "version": 3
   },
   "file_extension": ".py",
   "mimetype": "text/x-python",
   "name": "python",
   "nbconvert_exporter": "python",
   "pygments_lexer": "ipython3",
   "version": "3.11.5"
  }
 },
 "nbformat": 4,
 "nbformat_minor": 5
}
